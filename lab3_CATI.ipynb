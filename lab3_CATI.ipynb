{
 "cells": [
  {
   "cell_type": "code",
   "execution_count": 134,
   "metadata": {},
   "outputs": [],
   "source": [
    "import numpy as np\n",
    "from typing import List, Tuple\n",
    "from math import gcd\n",
    "import math\n",
    "import random\n",
    "import logging\n",
    "\n",
    "def prime_mod_inv(x, mod):\n",
    "    return pow(x, mod - 2, mod)\n",
    "\n",
    "\n",
    "def modinv(x,p):\n",
    "    # Computes the moduler inversion of x ** p-2 mod p,\n",
    "    # for p prime\n",
    "    return pow(x,p-2,p)"
   ]
  },
  {
   "cell_type": "code",
   "execution_count": 61,
   "metadata": {},
   "outputs": [],
   "source": [
    "\n",
    "# Sieve of Eratosthenes\n",
    "# Code by David Eppstein, UC Irvine, 28 Feb 2002\n",
    "# http://code.activestate.com/recipes/117119/\n",
    "\n",
    "def primes_generator():\n",
    "    \"\"\" Generate an infinite sequence of prime numbers.\n",
    "    \"\"\"\n",
    "    # Maps composites to primes witnessing their compositeness.\n",
    "    # This is memory efficient, as the sieve is not \"run forward\"\n",
    "    # indefinitely, but only as long as required by the current\n",
    "    # number being tested.\n",
    "    #\n",
    "    D = {}\n",
    "    \n",
    "    # The running integer that's checked for primeness\n",
    "    q = 2\n",
    "    \n",
    "    while True:\n",
    "        if q not in D:\n",
    "            # q is a new prime.\n",
    "            # Yield it and mark its first multiple that isn't\n",
    "            # already marked in previous iterations\n",
    "            # \n",
    "            yield q\n",
    "            D[q * q] = [q]\n",
    "        else:\n",
    "            # q is composite. D[q] is the list of primes that\n",
    "            # divide it. Since we've reached q, we no longer\n",
    "            # need it in the map, but we'll mark the next \n",
    "            # multiples of its witnesses to prepare for larger\n",
    "            # numbers\n",
    "            # \n",
    "            for p in D[q]:\n",
    "                D.setdefault(p + q, []).append(p)\n",
    "            del D[q]\n",
    "        \n",
    "        q += 1"
   ]
  },
  {
   "cell_type": "code",
   "execution_count": 3,
   "metadata": {},
   "outputs": [],
   "source": [
    "def generate_primes(n: int):\n",
    "    primes = []\n",
    "    i = 0\n",
    "    for p in primes_generator():\n",
    "        i += 1\n",
    "        primes.append(p)\n",
    "        if i == n:\n",
    "            return primes"
   ]
  },
  {
   "cell_type": "code",
   "execution_count": null,
   "metadata": {},
   "outputs": [],
   "source": []
  },
  {
   "cell_type": "code",
   "execution_count": 109,
   "metadata": {},
   "outputs": [
    {
     "name": "stdout",
     "output_type": "stream",
     "text": [
      "CPU times: user 9.49 s, sys: 220 ms, total: 9.71 s\n",
      "Wall time: 9.71 s\n"
     ]
    }
   ],
   "source": [
    "%%time\n",
    "BIG_PRIMES_CACHE = generate_primes(1_000_000)[990_000:]"
   ]
  },
  {
   "cell_type": "code",
   "execution_count": 110,
   "metadata": {},
   "outputs": [
    {
     "data": {
      "text/plain": [
       "15318911"
      ]
     },
     "execution_count": 110,
     "metadata": {},
     "output_type": "execute_result"
    }
   ],
   "source": [
    "BIG_PRIMES_CACHE[0]"
   ]
  },
  {
   "cell_type": "code",
   "execution_count": null,
   "metadata": {},
   "outputs": [],
   "source": []
  },
  {
   "cell_type": "markdown",
   "metadata": {},
   "source": [
    "# Задание 1\n",
    "\n",
    "1) Реализуйте алгоритмы шифрования и дешифрования, а также генерации ключей для системы Эль - Гамаля. \n",
    "\n",
    "2) Зашифруйте и расшифруйте несколько сообщений с разными параметрами и длинами сообщений, составьте таблицу показывающую скорость работы криптосистемы. \n",
    "\n",
    "3) Покажите корректность криптосистемы."
   ]
  },
  {
   "cell_type": "code",
   "execution_count": 113,
   "metadata": {},
   "outputs": [],
   "source": [
    "def generate_keys(primes_db: List[int] = BIG_PRIMES_CACHE) -> Tuple[Tuple[int], int]:\n",
    "    p = int(np.random.choice(primes_db))\n",
    "    g = random.randint(2, p)\n",
    "    \n",
    "    x = random.randint(pow(10, 20), pow(10, 30)) #gen_key(p)#\n",
    "\n",
    "    h = pow(g, x, p)\n",
    "    \n",
    "    public_key = (p, g, h)\n",
    "    priate_key = x\n",
    "    \n",
    "    return public_key, priate_key"
   ]
  },
  {
   "cell_type": "code",
   "execution_count": 114,
   "metadata": {},
   "outputs": [
    {
     "data": {
      "text/plain": [
       "((15477811, 4340224, 1154316), 158806008710649360579198454631)"
      ]
     },
     "execution_count": 114,
     "metadata": {},
     "output_type": "execute_result"
    }
   ],
   "source": [
    "generate_keys()"
   ]
  },
  {
   "cell_type": "code",
   "execution_count": 115,
   "metadata": {},
   "outputs": [],
   "source": [
    "def encrypt(message: List[int], pub_key: Tuple[int]) -> Tuple[List[int], int]:\n",
    "    (p, g, h) = pub_key\n",
    "    k = random.randint(2, p)\n",
    "    K = pow(h, k, p)\n",
    "    \n",
    "    code = [(m*K) % p for m in message]\n",
    "    O_sk = pow(g, k, p)\n",
    "    \n",
    "    return code, O_sk\n",
    "\n",
    "     \n",
    "def decrypt(code: List[int], pub_key: Tuple[int], O_sk: int, private_key: Tuple[int]) -> List[int]:\n",
    "    (p, g, h) = pub_key\n",
    "    x = private_key\n",
    "    K = pow(O_sk, x, p)\n",
    "    K_invert = modinv(K, p)\n",
    "    message = [(c*K_invert)%p for c in code]\n",
    "    return message"
   ]
  },
  {
   "cell_type": "code",
   "execution_count": null,
   "metadata": {},
   "outputs": [],
   "source": []
  },
  {
   "cell_type": "code",
   "execution_count": 116,
   "metadata": {},
   "outputs": [
    {
     "data": {
      "text/plain": [
       "True"
      ]
     },
     "execution_count": 116,
     "metadata": {},
     "output_type": "execute_result"
    }
   ],
   "source": [
    "pub_key, private_key = generate_keys()\n",
    "message = [55, 66, 89, 78, 93, 22]\n",
    "code, O_sk = encrypt(message, pub_key)\n",
    "mesage_restored = decrypt(code, pub_key, O_sk, private_key)\n",
    "\n",
    "message == mesage_restored"
   ]
  },
  {
   "cell_type": "code",
   "execution_count": 117,
   "metadata": {},
   "outputs": [
    {
     "data": {
      "text/plain": [
       "[55, 66, 89, 78, 93, 22]"
      ]
     },
     "execution_count": 117,
     "metadata": {},
     "output_type": "execute_result"
    }
   ],
   "source": [
    "message"
   ]
  },
  {
   "cell_type": "code",
   "execution_count": 118,
   "metadata": {},
   "outputs": [
    {
     "data": {
      "text/plain": [
       "[55, 66, 89, 78, 93, 22]"
      ]
     },
     "execution_count": 118,
     "metadata": {},
     "output_type": "execute_result"
    }
   ],
   "source": [
    "mesage_restored"
   ]
  },
  {
   "cell_type": "markdown",
   "metadata": {},
   "source": [
    "# Задание 2\n",
    "\n",
    "Реализовать алгоритмы дискретного логарифмирования: **Полный перебор степеней** и **Алгоритм больших и малых шагов**. \n",
    "Протестировать их на различных примерах. \\\n",
    "Детально сравнить скорость их работы.\n",
    "\n",
    "a^x=b (mod p) \\\n",
    "h = g^x mod p"
   ]
  },
  {
   "cell_type": "markdown",
   "metadata": {},
   "source": [
    "### Полный перебор степеней"
   ]
  },
  {
   "cell_type": "code",
   "execution_count": 130,
   "metadata": {},
   "outputs": [
    {
     "data": {
      "text/plain": [
       "((15455183, 10250396, 9900931), 3708557128006953853)"
      ]
     },
     "execution_count": 130,
     "metadata": {},
     "output_type": "execute_result"
    }
   ],
   "source": [
    "p = int(np.random.choice(BIG_PRIMES_CACHE))\n",
    "g = random.randint(2, p)\n",
    "\n",
    "x = random.randint(pow(10, 10), pow(10, 20)) #gen_key(p)#\n",
    "\n",
    "h = pow(g, x, p)\n",
    "\n",
    "(p, g, h), x"
   ]
  },
  {
   "cell_type": "code",
   "execution_count": 131,
   "metadata": {},
   "outputs": [],
   "source": [
    "def brute_force(h, g, p) -> int:\n",
    "    for x in range(1, p):\n",
    "        if h == pow(g, x, p):\n",
    "            return x"
   ]
  },
  {
   "cell_type": "code",
   "execution_count": 132,
   "metadata": {},
   "outputs": [
    {
     "name": "stdout",
     "output_type": "stream",
     "text": [
      "CPU times: user 4.76 s, sys: 0 ns, total: 4.76 s\n",
      "Wall time: 4.76 s\n"
     ]
    }
   ],
   "source": [
    "%%time\n",
    "x_ = brute_force(h, g, p)"
   ]
  },
  {
   "cell_type": "code",
   "execution_count": 133,
   "metadata": {},
   "outputs": [
    {
     "data": {
      "text/plain": [
       "(9900931, 9900931)"
      ]
     },
     "execution_count": 133,
     "metadata": {},
     "output_type": "execute_result"
    }
   ],
   "source": [
    "pow(g, x_, p),  h"
   ]
  },
  {
   "cell_type": "markdown",
   "metadata": {},
   "source": [
    "###  Алгоритм больших и малых шагов"
   ]
  },
  {
   "cell_type": "code",
   "execution_count": 140,
   "metadata": {},
   "outputs": [],
   "source": [
    "def bsgs(h, g, p):\n",
    "    '''\n",
    "    Solve for x in h = g^x mod p given a prime p.\n",
    "    If p is not prime, you shouldn't use BSGS anyway.\n",
    "    '''\n",
    "    N = math.ceil(math.sqrt(p - 1))  # phi(p) is p-1 if p is prime\n",
    "\n",
    "    # Store hashmap of g^{1...m} (mod p). Baby step.\n",
    "    tbl = {pow(g, i, p): i for i in range(N)}\n",
    "\n",
    "    # Precompute via Fermat's Little Theorem\n",
    "    c = pow(g, N * (p - 2), p)\n",
    "\n",
    "    # Search for an equivalence in the table. Giant step.\n",
    "    for j in range(N):\n",
    "        y = (h * pow(c, j, p)) % p\n",
    "        if y in tbl:\n",
    "            return j * N + tbl[y]\n",
    "\n",
    "    # Solution not found\n",
    "    return None"
   ]
  },
  {
   "cell_type": "code",
   "execution_count": 141,
   "metadata": {},
   "outputs": [
    {
     "name": "stdout",
     "output_type": "stream",
     "text": [
      "CPU times: user 6.34 ms, sys: 0 ns, total: 6.34 ms\n",
      "Wall time: 6.12 ms\n"
     ]
    }
   ],
   "source": [
    "%%time\n",
    "x_ = bsgs(h, g, p)"
   ]
  },
  {
   "cell_type": "code",
   "execution_count": 142,
   "metadata": {},
   "outputs": [
    {
     "data": {
      "text/plain": [
       "(9900931, 9900931)"
      ]
     },
     "execution_count": 142,
     "metadata": {},
     "output_type": "execute_result"
    }
   ],
   "source": [
    "pow(g, x_, p),  h"
   ]
  },
  {
   "cell_type": "markdown",
   "metadata": {},
   "source": [
    "# Задание 3\n",
    "\n",
    "Расшифровать шифротекст Эль - Гамаля без закрытого ключа, согласно вариантам.\\\n",
    "Для этого найдите закрытый ключ с помощью алгоритмов дискретного логарифмирования.\n",
    "\n",
    " 5 Вариант \\\n",
    " **P, g, h, O_sk, m** \\\n",
    " а) (1621, 2, 8, 64, 1374);\\\n",
    " б) (401132107, 5, 349975032, 262582374, 17960572);"
   ]
  },
  {
   "cell_type": "code",
   "execution_count": 150,
   "metadata": {},
   "outputs": [
    {
     "data": {
      "text/plain": [
       "([5035363], 3)"
      ]
     },
     "execution_count": 150,
     "metadata": {},
     "output_type": "execute_result"
    }
   ],
   "source": [
    "p, g, h, O_sk, m = (1621, 2, 8, 64, 1374)\n",
    "\n",
    "public_key = (p, g, h)\n",
    "\n",
    "x = bsgs(h, g, p)\n",
    "\n",
    "message = decrypt([m], pub_key, O_sk, x)\n",
    "\n",
    "message, x"
   ]
  },
  {
   "cell_type": "code",
   "execution_count": 151,
   "metadata": {},
   "outputs": [
    {
     "data": {
      "text/plain": [
       "([14413052], 205549142)"
      ]
     },
     "execution_count": 151,
     "metadata": {},
     "output_type": "execute_result"
    }
   ],
   "source": [
    "p, g, h, O_sk, m = (401132107, 5, 349975032, 262582374, 17960572)\n",
    "\n",
    "public_key = (p, g, h)\n",
    "\n",
    "x = bsgs(h, g, p)\n",
    "\n",
    "message = decrypt([m], pub_key, O_sk, x)\n",
    "\n",
    "message, x"
   ]
  },
  {
   "cell_type": "code",
   "execution_count": null,
   "metadata": {},
   "outputs": [],
   "source": []
  },
  {
   "cell_type": "code",
   "execution_count": 154,
   "metadata": {},
   "outputs": [
    {
     "data": {
      "text/plain": [
       "True"
      ]
     },
     "execution_count": 154,
     "metadata": {},
     "output_type": "execute_result"
    }
   ],
   "source": [
    "pub_key, private_key = generate_keys()\n",
    "message = [55, 66, 89, 78, 93, 22]\n",
    "code, O_sk = encrypt(message, pub_key)\n",
    "\n",
    "(p, g, h) = pub_key\n",
    "x_ = bsgs(h, g, p)\n",
    "\n",
    "mesage_restored = decrypt(code, pub_key, O_sk, x_)\n",
    "\n",
    "message == mesage_restored\n"
   ]
  },
  {
   "cell_type": "code",
   "execution_count": null,
   "metadata": {},
   "outputs": [],
   "source": []
  },
  {
   "cell_type": "markdown",
   "metadata": {},
   "source": [
    "# Задание 4\n",
    "\n",
    "Расшифруйте без закрытого ключа следующее сообщение.  \\\n",
    "**P, g, h, O_sk, m** \\"
   ]
  },
  {
   "cell_type": "code",
   "execution_count": 156,
   "metadata": {},
   "outputs": [],
   "source": [
    "def restore_no_private(code: List[int], pub_key: Tuple[int], O_sk: int) -> int:\n",
    "    (p, g, h) = public_key\n",
    "    x = bsgs(h, g, p)\n",
    "    return decrypt(code, public_key, O_sk, x)"
   ]
  },
  {
   "cell_type": "code",
   "execution_count": 157,
   "metadata": {},
   "outputs": [
    {
     "ename": "KeyboardInterrupt",
     "evalue": "",
     "output_type": "error",
     "traceback": [
      "\u001b[0;31m---------------------------------------------------------------------------\u001b[0m",
      "\u001b[0;31mKeyboardInterrupt\u001b[0m                         Traceback (most recent call last)",
      "\u001b[0;32m<timed exec>\u001b[0m in \u001b[0;36m<module>\u001b[0;34m\u001b[0m\n",
      "\u001b[0;32m<ipython-input-156-5302d1b0ee95>\u001b[0m in \u001b[0;36mrestore_no_private\u001b[0;34m(code, pub_key, O_sk)\u001b[0m\n\u001b[1;32m      1\u001b[0m \u001b[0;32mdef\u001b[0m \u001b[0mrestore_no_private\u001b[0m\u001b[0;34m(\u001b[0m\u001b[0mcode\u001b[0m\u001b[0;34m:\u001b[0m \u001b[0mList\u001b[0m\u001b[0;34m[\u001b[0m\u001b[0mint\u001b[0m\u001b[0;34m]\u001b[0m\u001b[0;34m,\u001b[0m \u001b[0mpub_key\u001b[0m\u001b[0;34m:\u001b[0m \u001b[0mTuple\u001b[0m\u001b[0;34m[\u001b[0m\u001b[0mint\u001b[0m\u001b[0;34m]\u001b[0m\u001b[0;34m,\u001b[0m \u001b[0mO_sk\u001b[0m\u001b[0;34m:\u001b[0m \u001b[0mint\u001b[0m\u001b[0;34m)\u001b[0m \u001b[0;34m->\u001b[0m \u001b[0mint\u001b[0m\u001b[0;34m:\u001b[0m\u001b[0;34m\u001b[0m\u001b[0;34m\u001b[0m\u001b[0m\n\u001b[1;32m      2\u001b[0m     \u001b[0;34m(\u001b[0m\u001b[0mp\u001b[0m\u001b[0;34m,\u001b[0m \u001b[0mg\u001b[0m\u001b[0;34m,\u001b[0m \u001b[0mh\u001b[0m\u001b[0;34m)\u001b[0m \u001b[0;34m=\u001b[0m \u001b[0mpublic_key\u001b[0m\u001b[0;34m\u001b[0m\u001b[0;34m\u001b[0m\u001b[0m\n\u001b[0;32m----> 3\u001b[0;31m     \u001b[0mx\u001b[0m \u001b[0;34m=\u001b[0m \u001b[0mbsgs\u001b[0m\u001b[0;34m(\u001b[0m\u001b[0mh\u001b[0m\u001b[0;34m,\u001b[0m \u001b[0mg\u001b[0m\u001b[0;34m,\u001b[0m \u001b[0mp\u001b[0m\u001b[0;34m)\u001b[0m\u001b[0;34m\u001b[0m\u001b[0;34m\u001b[0m\u001b[0m\n\u001b[0m\u001b[1;32m      4\u001b[0m     \u001b[0;32mreturn\u001b[0m \u001b[0mdecrypt\u001b[0m\u001b[0;34m(\u001b[0m\u001b[0mcode\u001b[0m\u001b[0;34m,\u001b[0m \u001b[0mpublic_key\u001b[0m\u001b[0;34m,\u001b[0m \u001b[0mO_sk\u001b[0m\u001b[0;34m,\u001b[0m \u001b[0mx\u001b[0m\u001b[0;34m)\u001b[0m\u001b[0;34m\u001b[0m\u001b[0;34m\u001b[0m\u001b[0m\n",
      "\u001b[0;32m<ipython-input-140-b3f0c9185e81>\u001b[0m in \u001b[0;36mbsgs\u001b[0;34m(h, g, p)\u001b[0m\n\u001b[1;32m      7\u001b[0m \u001b[0;34m\u001b[0m\u001b[0m\n\u001b[1;32m      8\u001b[0m     \u001b[0;31m# Store hashmap of g^{1...m} (mod p). Baby step.\u001b[0m\u001b[0;34m\u001b[0m\u001b[0;34m\u001b[0m\u001b[0;34m\u001b[0m\u001b[0m\n\u001b[0;32m----> 9\u001b[0;31m     \u001b[0mtbl\u001b[0m \u001b[0;34m=\u001b[0m \u001b[0;34m{\u001b[0m\u001b[0mpow\u001b[0m\u001b[0;34m(\u001b[0m\u001b[0mg\u001b[0m\u001b[0;34m,\u001b[0m \u001b[0mi\u001b[0m\u001b[0;34m,\u001b[0m \u001b[0mp\u001b[0m\u001b[0;34m)\u001b[0m\u001b[0;34m:\u001b[0m \u001b[0mi\u001b[0m \u001b[0;32mfor\u001b[0m \u001b[0mi\u001b[0m \u001b[0;32min\u001b[0m \u001b[0mrange\u001b[0m\u001b[0;34m(\u001b[0m\u001b[0mN\u001b[0m\u001b[0;34m)\u001b[0m\u001b[0;34m}\u001b[0m\u001b[0;34m\u001b[0m\u001b[0;34m\u001b[0m\u001b[0m\n\u001b[0m\u001b[1;32m     10\u001b[0m \u001b[0;34m\u001b[0m\u001b[0m\n\u001b[1;32m     11\u001b[0m     \u001b[0;31m# Precompute via Fermat's Little Theorem\u001b[0m\u001b[0;34m\u001b[0m\u001b[0;34m\u001b[0m\u001b[0;34m\u001b[0m\u001b[0m\n",
      "\u001b[0;32m<ipython-input-140-b3f0c9185e81>\u001b[0m in \u001b[0;36m<dictcomp>\u001b[0;34m(.0)\u001b[0m\n\u001b[1;32m      7\u001b[0m \u001b[0;34m\u001b[0m\u001b[0m\n\u001b[1;32m      8\u001b[0m     \u001b[0;31m# Store hashmap of g^{1...m} (mod p). Baby step.\u001b[0m\u001b[0;34m\u001b[0m\u001b[0;34m\u001b[0m\u001b[0;34m\u001b[0m\u001b[0m\n\u001b[0;32m----> 9\u001b[0;31m     \u001b[0mtbl\u001b[0m \u001b[0;34m=\u001b[0m \u001b[0;34m{\u001b[0m\u001b[0mpow\u001b[0m\u001b[0;34m(\u001b[0m\u001b[0mg\u001b[0m\u001b[0;34m,\u001b[0m \u001b[0mi\u001b[0m\u001b[0;34m,\u001b[0m \u001b[0mp\u001b[0m\u001b[0;34m)\u001b[0m\u001b[0;34m:\u001b[0m \u001b[0mi\u001b[0m \u001b[0;32mfor\u001b[0m \u001b[0mi\u001b[0m \u001b[0;32min\u001b[0m \u001b[0mrange\u001b[0m\u001b[0;34m(\u001b[0m\u001b[0mN\u001b[0m\u001b[0;34m)\u001b[0m\u001b[0;34m}\u001b[0m\u001b[0;34m\u001b[0m\u001b[0;34m\u001b[0m\u001b[0m\n\u001b[0m\u001b[1;32m     10\u001b[0m \u001b[0;34m\u001b[0m\u001b[0m\n\u001b[1;32m     11\u001b[0m     \u001b[0;31m# Precompute via Fermat's Little Theorem\u001b[0m\u001b[0;34m\u001b[0m\u001b[0;34m\u001b[0m\u001b[0;34m\u001b[0m\u001b[0m\n",
      "\u001b[0;31mKeyboardInterrupt\u001b[0m: "
     ]
    }
   ],
   "source": [
    "%%time\n",
    "p = 260147055818248197894653524697;\n",
    "g = 81845634689728340040520901679;\n",
    "h = 202356722887630660067216789213;\n",
    "O_sk = 5306753730871089882973367602;\n",
    "m = 135691234701387372733541060211;\n",
    "\n",
    "public_key = (p, g, h)\n",
    "restore_no_private(m, public_key, O_sk)"
   ]
  },
  {
   "cell_type": "code",
   "execution_count": null,
   "metadata": {},
   "outputs": [],
   "source": [
    "%%time\n",
    "p = 20877322939496718999507886320561262006149588197137;\n",
    "g = 870843123424618675163716010659673726076476758909;\n",
    "h = 7207317984241552030871178883064350738879910571494;\n",
    "O_sk = 6796864572822288687416809010479769477246880690656;\n",
    "m = 282675013090798290915650697860421629786835997398;\n",
    "\n",
    "public_key = (p, g, h)\n",
    "restore_no_private(m, public_key, O_sk)"
   ]
  },
  {
   "cell_type": "code",
   "execution_count": null,
   "metadata": {},
   "outputs": [],
   "source": [
    "%%time\n",
    "p = 2876533531729072512082818329952287785554819082407936795733805489728591;\n",
    "g = 2533057351760799307616363212416778342469125538911820746531544613426542;\n",
    "h = 1050801438014966439216366236279672394903289313289249053678609934452775;\n",
    "O_sk = 2242230984295454322539052136800744886060744987604416480499149266658790;\n",
    "m = 1371849664498900949800837594872913496467147428907280108161021265852474;\n",
    "\n",
    "public_key = (p, g, h)\n",
    "restore_no_private(m, public_key, O_sk)"
   ]
  },
  {
   "cell_type": "code",
   "execution_count": null,
   "metadata": {},
   "outputs": [],
   "source": [
    "%%time\n",
    "p = 52854404059991509314069937557578892569539085858940987255601864390261570465112144173788144130257527;\n",
    "g = 4853368270202563286252009257092194687539098185568841022007075472586039265525482056853510150449122;\n",
    "h = 52854404059991509314069937557578892569539085858940987255601864390261570465112144173788144130257527;\n",
    "O_sk = 3890686571444456836554231821236512191047789612172394855114365344076687887158571773618974369355001;\n",
    "m = 37480164404707175984456519081463765320456291484151561998847734775738831885826034565181167830921699;\n",
    "\n",
    "public_key = (p, g, h)\n",
    "restore_no_private(m, public_key, O_sk)"
   ]
  }
 ],
 "metadata": {
  "kernelspec": {
   "display_name": "Python [conda env:py37_openvino] *",
   "language": "python",
   "name": "conda-env-py37_openvino-py"
  },
  "language_info": {
   "codemirror_mode": {
    "name": "ipython",
    "version": 3
   },
   "file_extension": ".py",
   "mimetype": "text/x-python",
   "name": "python",
   "nbconvert_exporter": "python",
   "pygments_lexer": "ipython3",
   "version": "3.7.9"
  }
 },
 "nbformat": 4,
 "nbformat_minor": 4
}
