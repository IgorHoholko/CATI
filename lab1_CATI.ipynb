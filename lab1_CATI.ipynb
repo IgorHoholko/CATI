{
 "cells": [
  {
   "cell_type": "code",
   "execution_count": 370,
   "metadata": {},
   "outputs": [],
   "source": [
    "import numpy as np\n",
    "from typing import List, Tuple\n",
    "from math import gcd\n",
    "import random\n",
    "import logging\n",
    "\n",
    "def egcd(a, b):\n",
    "    if a == 0:\n",
    "        return b, 0, 1\n",
    "    else:\n",
    "        g, y, x = egcd(b % a, a)\n",
    "        return g, x - (b // a) * y, y\n",
    "\n",
    "\n",
    "def modinv(a, m):\n",
    "    g, x, y = egcd(a, m)\n",
    "    if g != 1:\n",
    "        raise Exception('modular inverse does not exist')\n",
    "    else:\n",
    "        return x % m"
   ]
  },
  {
   "cell_type": "code",
   "execution_count": 365,
   "metadata": {},
   "outputs": [],
   "source": [
    "\n",
    "# Sieve of Eratosthenes\n",
    "# Code by David Eppstein, UC Irvine, 28 Feb 2002\n",
    "# http://code.activestate.com/recipes/117119/\n",
    "\n",
    "def primes_generator():\n",
    "    \"\"\" Generate an infinite sequence of prime numbers.\n",
    "    \"\"\"\n",
    "    # Maps composites to primes witnessing their compositeness.\n",
    "    # This is memory efficient, as the sieve is not \"run forward\"\n",
    "    # indefinitely, but only as long as required by the current\n",
    "    # number being tested.\n",
    "    #\n",
    "    D = {}\n",
    "    \n",
    "    # The running integer that's checked for primeness\n",
    "    q = 2\n",
    "    \n",
    "    while True:\n",
    "        if q not in D:\n",
    "            # q is a new prime.\n",
    "            # Yield it and mark its first multiple that isn't\n",
    "            # already marked in previous iterations\n",
    "            # \n",
    "            yield q\n",
    "            D[q * q] = [q]\n",
    "        else:\n",
    "            # q is composite. D[q] is the list of primes that\n",
    "            # divide it. Since we've reached q, we no longer\n",
    "            # need it in the map, but we'll mark the next \n",
    "            # multiples of its witnesses to prepare for larger\n",
    "            # numbers\n",
    "            # \n",
    "            for p in D[q]:\n",
    "                D.setdefault(p + q, []).append(p)\n",
    "            del D[q]\n",
    "        \n",
    "        q += 1"
   ]
  },
  {
   "cell_type": "code",
   "execution_count": 366,
   "metadata": {},
   "outputs": [],
   "source": [
    "def generate_primes(n: int):\n",
    "    primes = []\n",
    "    i = 0\n",
    "    for p in primes_generator():\n",
    "        i += 1\n",
    "        primes.append(p)\n",
    "        if i == n:\n",
    "            return primes"
   ]
  },
  {
   "cell_type": "code",
   "execution_count": null,
   "metadata": {},
   "outputs": [],
   "source": []
  },
  {
   "cell_type": "code",
   "execution_count": 222,
   "metadata": {},
   "outputs": [],
   "source": [
    "BIG_PRIMES_CACHE_10k = generate_primes(100000)[90000:]"
   ]
  },
  {
   "cell_type": "code",
   "execution_count": 223,
   "metadata": {},
   "outputs": [
    {
     "data": {
      "text/plain": [
       "1159531"
      ]
     },
     "execution_count": 223,
     "metadata": {},
     "output_type": "execute_result"
    }
   ],
   "source": [
    "BIG_PRIMES_CACHE_10k[0]"
   ]
  },
  {
   "cell_type": "markdown",
   "metadata": {},
   "source": [
    "## Задание 1\n",
    "\n",
    "Реализовать алгоритмы генерации ключей шифровки и дешифровки. Протестировать их для шифрования и дешифрования произвольных сообщений."
   ]
  },
  {
   "cell_type": "code",
   "execution_count": 367,
   "metadata": {},
   "outputs": [],
   "source": [
    "def prime_mod_inv(x, mod):\n",
    "    return pow(x, mod - 2, mod)"
   ]
  },
  {
   "cell_type": "code",
   "execution_count": 371,
   "metadata": {},
   "outputs": [],
   "source": [
    "def generate_keys(primes_db: List[int] = BIG_PRIMES_CACHE_10k) -> Tuple[Tuple[int], Tuple[int]]:\n",
    "    p, q = np.random.choice(primes_db, size = 2, replace = False)\n",
    "    p, q = int(p), int(q)\n",
    "    n = q*p\n",
    "    print( f\"Primes selected: p={p}, q={q}.\\np*q = {n}\")\n",
    "    \n",
    "    phi = (p-1)*(q-1)\n",
    "    print( f\"phi = {phi}\")\n",
    "    \n",
    "    while True:\n",
    "        e = int (random.randint(1, n) )\n",
    "        if gcd(e, phi) == 1:\n",
    "            break\n",
    "    print( f\"e = {e}\")\n",
    "    \n",
    "    d = modinv(e, phi)\n",
    "    print((d*e)%phi)\n",
    "    assert (d*e)%phi == 1\n",
    "    print( f\"d = {phi}\")\n",
    "    \n",
    "    public_key = (e, n)\n",
    "    priate_key = (d, n)\n",
    "\n",
    "    return public_key, priate_key"
   ]
  },
  {
   "cell_type": "code",
   "execution_count": 372,
   "metadata": {},
   "outputs": [
    {
     "name": "stdout",
     "output_type": "stream",
     "text": [
      "Primes selected: p=1178669, q=1291219.\n",
      "p*q = 1521919807511\n",
      "phi = 1521917337624\n",
      "e = 370810455565\n",
      "1\n",
      "d = 1521917337624\n"
     ]
    },
    {
     "data": {
      "text/plain": [
       "((370810455565, 1521919807511), (64108792285, 1521919807511))"
      ]
     },
     "execution_count": 372,
     "metadata": {},
     "output_type": "execute_result"
    }
   ],
   "source": [
    "generate_keys()"
   ]
  },
  {
   "cell_type": "markdown",
   "metadata": {},
   "source": [
    "## Проверим"
   ]
  },
  {
   "cell_type": "code",
   "execution_count": 373,
   "metadata": {},
   "outputs": [],
   "source": [
    "import time"
   ]
  },
  {
   "cell_type": "code",
   "execution_count": 387,
   "metadata": {},
   "outputs": [],
   "source": [
    "def encrypt(message: List[int], pub_key: Tuple[int]) -> List[int]:\n",
    "    e, n = pub_key\n",
    "    return [pow(m, e, n) for m in message]\n",
    "     \n",
    "def decrypt(code: List[int], private_key: Tuple[int]) -> List[int]:\n",
    "    d, n=private_key\n",
    "    return [pow(c, d, n) for c in code]"
   ]
  },
  {
   "cell_type": "code",
   "execution_count": 388,
   "metadata": {},
   "outputs": [
    {
     "name": "stdout",
     "output_type": "stream",
     "text": [
      "Primes selected: p=1194883, q=1252103.\n",
      "p*q = 1496116588949\n",
      "phi = 1496114141964\n",
      "e = 555701013949\n",
      "1\n",
      "d = 1496114141964\n"
     ]
    },
    {
     "data": {
      "text/plain": [
       "True"
      ]
     },
     "execution_count": 388,
     "metadata": {},
     "output_type": "execute_result"
    }
   ],
   "source": [
    "pub_key, private_key = generate_keys()\n",
    "message = [55, 66, 89, 78, 93, 22]\n",
    "code = encrypt(message, pub_key)\n",
    "mesage_restored = decrypt(code, private_key)\n",
    "\n",
    "message == mesage_restored"
   ]
  },
  {
   "cell_type": "code",
   "execution_count": 389,
   "metadata": {},
   "outputs": [
    {
     "data": {
      "text/plain": [
       "(555701013949, 1496116588949)"
      ]
     },
     "execution_count": 389,
     "metadata": {},
     "output_type": "execute_result"
    }
   ],
   "source": [
    "pub_key"
   ]
  },
  {
   "cell_type": "code",
   "execution_count": 390,
   "metadata": {},
   "outputs": [
    {
     "data": {
      "text/plain": [
       "[55, 66, 89, 78, 93, 22]"
      ]
     },
     "execution_count": 390,
     "metadata": {},
     "output_type": "execute_result"
    }
   ],
   "source": [
    "message"
   ]
  },
  {
   "cell_type": "code",
   "execution_count": 391,
   "metadata": {},
   "outputs": [
    {
     "data": {
      "text/plain": [
       "[55, 66, 89, 78, 93, 22]"
      ]
     },
     "execution_count": 391,
     "metadata": {},
     "output_type": "execute_result"
    }
   ],
   "source": [
    "mesage_restored"
   ]
  },
  {
   "cell_type": "markdown",
   "metadata": {},
   "source": [
    "## Задание 2\n",
    "\n",
    "Вариант 5"
   ]
  },
  {
   "cell_type": "markdown",
   "metadata": {},
   "source": [
    "### a) \n",
    "\n",
    "Пусть даны открытые ключи {n,e} и сообщение m. Зашифруйте используя криптосистему RSA."
   ]
  },
  {
   "cell_type": "code",
   "execution_count": 392,
   "metadata": {},
   "outputs": [],
   "source": [
    "m = 3678\n",
    "e = 176561525\n",
    "n = 279976601"
   ]
  },
  {
   "cell_type": "code",
   "execution_count": 393,
   "metadata": {},
   "outputs": [
    {
     "data": {
      "text/plain": [
       "[138387333]"
      ]
     },
     "execution_count": 393,
     "metadata": {},
     "output_type": "execute_result"
    }
   ],
   "source": [
    "pub_key = (e, n)\n",
    "\n",
    "code = encrypt([m], pub_key)\n",
    "\n",
    "code"
   ]
  },
  {
   "cell_type": "markdown",
   "metadata": {},
   "source": [
    "## b)\n",
    "\n",
    "Расшифровать полученные шифротексты используя криптосистему RSA. Сравните результаты с исходным текстом."
   ]
  },
  {
   "cell_type": "code",
   "execution_count": 394,
   "metadata": {},
   "outputs": [
    {
     "data": {
      "text/plain": [
       "True"
      ]
     },
     "execution_count": 394,
     "metadata": {},
     "output_type": "execute_result"
    }
   ],
   "source": [
    "cp = 15 / 3\n",
    "cp * 3 == 15"
   ]
  },
  {
   "cell_type": "code",
   "execution_count": 395,
   "metadata": {},
   "outputs": [],
   "source": [
    "def factorize_into_primes(num: int) -> List[int]:\n",
    "    \"\"\" Assume that num is a combination of exactly 2 primes\"\"\"\n",
    "    for prime in primes_generator():\n",
    "        co_prime = num // prime\n",
    "        if co_prime * prime == num:\n",
    "            return [co_prime , prime]"
   ]
  },
  {
   "cell_type": "code",
   "execution_count": 396,
   "metadata": {},
   "outputs": [
    {
     "data": {
      "text/plain": [
       "(17623, 15887, 269809349)"
      ]
     },
     "execution_count": 396,
     "metadata": {},
     "output_type": "execute_result"
    }
   ],
   "source": [
    "p, q = factorize_into_primes(n)\n",
    "\n",
    "phi = (p - 1) * (q - 1)\n",
    "\n",
    "d = modinv(e, phi)\n",
    "\n",
    "p, q, d"
   ]
  },
  {
   "cell_type": "code",
   "execution_count": 397,
   "metadata": {},
   "outputs": [],
   "source": [
    "private_key = (d, n)"
   ]
  },
  {
   "cell_type": "code",
   "execution_count": 398,
   "metadata": {},
   "outputs": [
    {
     "data": {
      "text/plain": [
       "[3678]"
      ]
     },
     "execution_count": 398,
     "metadata": {},
     "output_type": "execute_result"
    }
   ],
   "source": [
    "decrypt(code, private_key)"
   ]
  },
  {
   "cell_type": "code",
   "execution_count": 399,
   "metadata": {},
   "outputs": [
    {
     "data": {
      "text/plain": [
       "3678"
      ]
     },
     "execution_count": 399,
     "metadata": {},
     "output_type": "execute_result"
    }
   ],
   "source": [
    "m"
   ]
  },
  {
   "cell_type": "code",
   "execution_count": null,
   "metadata": {},
   "outputs": [],
   "source": []
  }
 ],
 "metadata": {
  "kernelspec": {
   "display_name": "Python [conda env:py37_openvino] *",
   "language": "python",
   "name": "conda-env-py37_openvino-py"
  },
  "language_info": {
   "codemirror_mode": {
    "name": "ipython",
    "version": 3
   },
   "file_extension": ".py",
   "mimetype": "text/x-python",
   "name": "python",
   "nbconvert_exporter": "python",
   "pygments_lexer": "ipython3",
   "version": "3.7.9"
  }
 },
 "nbformat": 4,
 "nbformat_minor": 4
}
