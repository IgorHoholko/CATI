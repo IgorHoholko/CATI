{
 "cells": [
  {
   "cell_type": "code",
   "execution_count": 333,
   "metadata": {},
   "outputs": [],
   "source": [
    "import numpy as np\n",
    "from typing import List, Tuple\n",
    "from math import gcd\n",
    "import random\n",
    "import logging\n",
    "\n",
    "def modinv(x,p):\n",
    "    # Computes the moduler inversion of x ** p-2 mod p,\n",
    "    # for p prime\n",
    "    return pow(x,p-2,p)"
   ]
  },
  {
   "cell_type": "code",
   "execution_count": 334,
   "metadata": {},
   "outputs": [],
   "source": [
    "\n",
    "# Sieve of Eratosthenes\n",
    "# Code by David Eppstein, UC Irvine, 28 Feb 2002\n",
    "# http://code.activestate.com/recipes/117119/\n",
    "\n",
    "def primes_generator():\n",
    "    \"\"\" Generate an infinite sequence of prime numbers.\n",
    "    \"\"\"\n",
    "    # Maps composites to primes witnessing their compositeness.\n",
    "    # This is memory efficient, as the sieve is not \"run forward\"\n",
    "    # indefinitely, but only as long as required by the current\n",
    "    # number being tested.\n",
    "    #\n",
    "    D = {}\n",
    "    \n",
    "    # The running integer that's checked for primeness\n",
    "    q = 2\n",
    "    \n",
    "    while True:\n",
    "        if q not in D:\n",
    "            # q is a new prime.\n",
    "            # Yield it and mark its first multiple that isn't\n",
    "            # already marked in previous iterations\n",
    "            # \n",
    "            yield q\n",
    "            D[q * q] = [q]\n",
    "        else:\n",
    "            # q is composite. D[q] is the list of primes that\n",
    "            # divide it. Since we've reached q, we no longer\n",
    "            # need it in the map, but we'll mark the next \n",
    "            # multiples of its witnesses to prepare for larger\n",
    "            # numbers\n",
    "            # \n",
    "            for p in D[q]:\n",
    "                D.setdefault(p + q, []).append(p)\n",
    "            del D[q]\n",
    "        \n",
    "        q += 1"
   ]
  },
  {
   "cell_type": "code",
   "execution_count": 335,
   "metadata": {},
   "outputs": [],
   "source": [
    "def generate_primes(n: int):\n",
    "    primes = []\n",
    "    i = 0\n",
    "    for p in primes_generator():\n",
    "        i += 1\n",
    "        primes.append(p)\n",
    "        if i == n:\n",
    "            return primes"
   ]
  },
  {
   "cell_type": "code",
   "execution_count": null,
   "metadata": {},
   "outputs": [],
   "source": []
  },
  {
   "cell_type": "code",
   "execution_count": 222,
   "metadata": {},
   "outputs": [],
   "source": [
    "BIG_PRIMES_CACHE_10k = generate_primes(100000)[90000:]"
   ]
  },
  {
   "cell_type": "code",
   "execution_count": 223,
   "metadata": {},
   "outputs": [
    {
     "data": {
      "text/plain": [
       "1159531"
      ]
     },
     "execution_count": 223,
     "metadata": {},
     "output_type": "execute_result"
    }
   ],
   "source": [
    "BIG_PRIMES_CACHE_10k[0]"
   ]
  },
  {
   "cell_type": "markdown",
   "metadata": {},
   "source": [
    "## Задание 1\n",
    "\n",
    "Реализовать алгоритмы генерации ключей шифровки и дешифровки. Протестировать их для шифрования и дешифрования произвольных сообщений."
   ]
  },
  {
   "cell_type": "code",
   "execution_count": 325,
   "metadata": {},
   "outputs": [],
   "source": [
    "def generate_keys(primes_db: List[int] = BIG_PRIMES_CACHE_10k) -> Tuple[Tuple[int], Tuple[int]]:\n",
    "    p, q = np.random.choice(primes_db, size = 2, replace = False)\n",
    "    p, q = int(p), int(q)\n",
    "    n = q*p\n",
    "    print( f\"Primes selected: p={p}, q={q}.\\np*q = {n}\")\n",
    "    \n",
    "    phi = (p-1)*(q-1)\n",
    "    print( f\"phi = {phi}\")\n",
    "    \n",
    "    while True:\n",
    "        e = random.randint(1, n)\n",
    "        if gcd(e, phi) == 1:\n",
    "            break\n",
    "    print( f\"e = {e}\")\n",
    "    \n",
    "    d = modinv(e, phi)\n",
    "    assert (d*e)%phi == 1\n",
    "    print( f\"d = {phi}\")\n",
    "    \n",
    "    public_key = (e, n)\n",
    "    priate_key = (d, n)\n",
    "\n",
    "    return public_key, priate_key"
   ]
  },
  {
   "cell_type": "code",
   "execution_count": 326,
   "metadata": {},
   "outputs": [
    {
     "name": "stdout",
     "output_type": "stream",
     "text": [
      "Primes selected: p=1160443, q=1248001.\n",
      "p*q = 1448234024443\n",
      "phi = 1448231616000\n",
      "e = 165081005497\n",
      "d = 1448231616000\n"
     ]
    },
    {
     "data": {
      "text/plain": [
       "((165081005497, 1448234024443), (1261148765833, 1448234024443))"
      ]
     },
     "execution_count": 326,
     "metadata": {},
     "output_type": "execute_result"
    }
   ],
   "source": [
    "generate_keys()"
   ]
  },
  {
   "cell_type": "markdown",
   "metadata": {},
   "source": [
    "## Проверим"
   ]
  },
  {
   "cell_type": "code",
   "execution_count": 327,
   "metadata": {},
   "outputs": [],
   "source": [
    "import time"
   ]
  },
  {
   "cell_type": "code",
   "execution_count": 328,
   "metadata": {},
   "outputs": [],
   "source": [
    "def encrypt(meassage: List[int], pub_key: Tuple[int]) -> List[int]:\n",
    "    e, n = pub_key\n",
    "    return [pow(m, e, n) for m in message]\n",
    "     \n",
    "def decrypt(code: List[int], private_key: Tuple[int]) -> List[int]:\n",
    "    d, n=private_key\n",
    "    return [pow(c, d, n) for c in code]"
   ]
  },
  {
   "cell_type": "code",
   "execution_count": 330,
   "metadata": {},
   "outputs": [
    {
     "name": "stdout",
     "output_type": "stream",
     "text": [
      "Primes selected: p=1221163, q=1190249.\n",
      "p*q = 1453488039587\n",
      "phi = 1453485628176\n",
      "e = 758098699285\n",
      "d = 1453485628176\n"
     ]
    },
    {
     "data": {
      "text/plain": [
       "True"
      ]
     },
     "execution_count": 330,
     "metadata": {},
     "output_type": "execute_result"
    }
   ],
   "source": [
    "pub_key, private_key = generate_keys()\n",
    "message = [55, 66, 89, 78, 93, 22]\n",
    "code = encrypt(message, pub_key)\n",
    "mesage_restored = decrypt(code, private_key)\n",
    "\n",
    "message == mesage_restored"
   ]
  },
  {
   "cell_type": "code",
   "execution_count": 322,
   "metadata": {},
   "outputs": [
    {
     "data": {
      "text/plain": [
       "(1164589, 36773, 1083591)"
      ]
     },
     "execution_count": 322,
     "metadata": {},
     "output_type": "execute_result"
    }
   ],
   "source": [
    "pub_key"
   ]
  },
  {
   "cell_type": "code",
   "execution_count": 320,
   "metadata": {},
   "outputs": [
    {
     "data": {
      "text/plain": [
       "[55, 66, 89, 78, 93, 22]"
      ]
     },
     "execution_count": 320,
     "metadata": {},
     "output_type": "execute_result"
    }
   ],
   "source": [
    "message"
   ]
  },
  {
   "cell_type": "code",
   "execution_count": 321,
   "metadata": {},
   "outputs": [
    {
     "data": {
      "text/plain": [
       "[0.22350723902114605,\n",
       " 1.0325318416297313,\n",
       " 1.1028371974990483,\n",
       " 0.293812594890463,\n",
       " 0.007349498803341019,\n",
       " 0.34417728054324376]"
      ]
     },
     "execution_count": 321,
     "metadata": {},
     "output_type": "execute_result"
    }
   ],
   "source": [
    "mesage_restored"
   ]
  },
  {
   "cell_type": "markdown",
   "metadata": {},
   "source": [
    "## Задание 2\n",
    "\n",
    "Вариант 5"
   ]
  },
  {
   "cell_type": "markdown",
   "metadata": {},
   "source": [
    "### a) \n",
    "\n",
    "Пусть даны открытые ключи {n,e} и сообщение m. Зашифруйте используя криптосистему RSA."
   ]
  },
  {
   "cell_type": "code",
   "execution_count": 280,
   "metadata": {},
   "outputs": [],
   "source": [
    "m = 3678\n",
    "e = 176561525\n",
    "n = 279976601"
   ]
  },
  {
   "cell_type": "code",
   "execution_count": 283,
   "metadata": {},
   "outputs": [
    {
     "data": {
      "text/plain": [
       "[138387333]"
      ]
     },
     "execution_count": 283,
     "metadata": {},
     "output_type": "execute_result"
    }
   ],
   "source": [
    "pub_key = (e, n)\n",
    "\n",
    "code = encrypt([m], pub_key)\n",
    "\n",
    "code"
   ]
  },
  {
   "cell_type": "markdown",
   "metadata": {},
   "source": [
    "## b)\n",
    "\n",
    "Расшифровать полученные шифротексты используя криптосистему RSA. Сравните результаты с исходным текстом."
   ]
  },
  {
   "cell_type": "code",
   "execution_count": 287,
   "metadata": {},
   "outputs": [
    {
     "data": {
      "text/plain": [
       "True"
      ]
     },
     "execution_count": 287,
     "metadata": {},
     "output_type": "execute_result"
    }
   ],
   "source": [
    "cp = 15 / 3\n",
    "cp * 3 == 15"
   ]
  },
  {
   "cell_type": "code",
   "execution_count": 288,
   "metadata": {},
   "outputs": [],
   "source": [
    "def factorize_into_primes(num: int) -> List[int]:\n",
    "    \"\"\" Assume that num is a combination of exactly 2 primes\"\"\"\n",
    "    for prime in primes_generator():\n",
    "        co_prime = num // prime\n",
    "        if co_prime * prime == num:\n",
    "            return [co_prime , prime]"
   ]
  },
  {
   "cell_type": "code",
   "execution_count": 290,
   "metadata": {},
   "outputs": [
    {
     "data": {
      "text/plain": [
       "(17623, 15887, 269809349)"
      ]
     },
     "execution_count": 290,
     "metadata": {},
     "output_type": "execute_result"
    }
   ],
   "source": [
    "p, q = factorize_into_primes(n)\n",
    "\n",
    "phi = (p - 1) * (q - 1)\n",
    "\n",
    "d = modinv(e, phi)\n",
    "\n",
    "p, q, d"
   ]
  },
  {
   "cell_type": "code",
   "execution_count": 291,
   "metadata": {},
   "outputs": [],
   "source": [
    "private_key = (d, n)"
   ]
  },
  {
   "cell_type": "code",
   "execution_count": 292,
   "metadata": {},
   "outputs": [
    {
     "data": {
      "text/plain": [
       "[3678]"
      ]
     },
     "execution_count": 292,
     "metadata": {},
     "output_type": "execute_result"
    }
   ],
   "source": [
    "decrypt(code, private_key)"
   ]
  },
  {
   "cell_type": "code",
   "execution_count": 293,
   "metadata": {},
   "outputs": [
    {
     "data": {
      "text/plain": [
       "3678"
      ]
     },
     "execution_count": 293,
     "metadata": {},
     "output_type": "execute_result"
    }
   ],
   "source": [
    "m"
   ]
  }
 ],
 "metadata": {
  "kernelspec": {
   "display_name": "Python [conda env:py37_openvino] *",
   "language": "python",
   "name": "conda-env-py37_openvino-py"
  },
  "language_info": {
   "codemirror_mode": {
    "name": "ipython",
    "version": 3
   },
   "file_extension": ".py",
   "mimetype": "text/x-python",
   "name": "python",
   "nbconvert_exporter": "python",
   "pygments_lexer": "ipython3",
   "version": "3.7.9"
  }
 },
 "nbformat": 4,
 "nbformat_minor": 4
}
